{
 "cells": [
  {
   "cell_type": "markdown",
   "id": "d8e8a61a",
   "metadata": {},
   "source": [
    "Welcome to New York City, one of the most-visited cities in the world. There are many Airbnb listings in New York City to meet the high demand for temporary lodging for travelers, which can be anywhere between a few nights to many months. In this project, we will take a closer look at the New York Airbnb market by combining data from multiple file types like `.csv`, `.tsv`, and `.xlsx`.\n",
    "\n",
    "Recall that **CSV**, **TSV**, and **Excel** files are three common formats for storing data. \n",
    "Three files containing data on 2019 Airbnb listings are available to you:\n",
    "\n",
    "**data/airbnb_price.csv**\n",
    "This is a CSV file containing data on Airbnb listing prices and locations.\n",
    "- **`listing_id`**: unique identifier of listing\n",
    "- **`price`**: nightly listing price in USD\n",
    "- **`nbhood_full`**: name of borough and neighborhood where listing is located\n",
    "\n",
    "**data/airbnb_room_type.xlsx**\n",
    "This is an Excel file containing data on Airbnb listing descriptions and room types.\n",
    "- **`listing_id`**: unique identifier of listing\n",
    "- **`description`**: listing description\n",
    "- **`room_type`**: Airbnb has three types of rooms: shared rooms, private rooms, and entire homes/apartments\n",
    "\n",
    "**data/airbnb_last_review.tsv**\n",
    "This is a TSV file containing data on Airbnb host names and review dates.\n",
    "- **`listing_id`**: unique identifier of listing\n",
    "- **`host_name`**: name of listing host\n",
    "- **`last_review`**: date when the listing was last reviewed"
   ]
  },
  {
   "cell_type": "code",
   "execution_count": 1,
   "id": "b649a610",
   "metadata": {},
   "outputs": [],
   "source": [
    "# import libraries\n",
    "import numpy as np\n",
    "import pandas as pd"
   ]
  },
  {
   "cell_type": "code",
   "execution_count": 3,
   "id": "c1e6c5a2",
   "metadata": {},
   "outputs": [],
   "source": [
    "# importing all different types of dataframes\n",
    "prices = pd.read_csv('airbnb_price.csv')\n",
    "\n",
    "\n",
    "rooms = pd.read_excel('airbnb_room_type.xlsx')\n",
    "\n",
    "\n",
    "reviews = pd.read_csv('airbnb_last_review.tsv', sep = '\\t')"
   ]
  },
  {
   "cell_type": "code",
   "execution_count": 4,
   "id": "b197c878",
   "metadata": {},
   "outputs": [
    {
     "name": "stdout",
     "output_type": "stream",
     "text": [
      "The earliest review for an Airbnb listing was registered on 2019-01-01 00:00:00 , whereas the latest entry was registered on 2019-07-09 00:00:00 .\n"
     ]
    }
   ],
   "source": [
    "# Find the earliest and most recent reviews \n",
    "reviews['last_review_date'] = pd.to_datetime(reviews['last_review'], format='%B %d %Y')\n",
    "\n",
    "\n",
    "# Find earliest entry\n",
    "earliest_date = reviews['last_review_date'].min()\n",
    "\n",
    "# Find latest entry\n",
    "latest_date = reviews['last_review_date'].max()\n",
    "\n",
    "\n",
    "print('The earliest review for an Airbnb listing was registered on', earliest_date,', whereas the latest entry was registered on', latest_date, '.')\n"
   ]
  },
  {
   "cell_type": "code",
   "execution_count": 5,
   "id": "2ac2fe4a",
   "metadata": {},
   "outputs": [
    {
     "name": "stdout",
     "output_type": "stream",
     "text": [
      "There are 11356 listings as private rooms.\n"
     ]
    }
   ],
   "source": [
    "# Number of private room listings\n",
    "rooms['room_type'] = rooms['room_type'].str.lower()\n",
    "private_rooms = len(rooms[rooms['room_type'] == 'private room'])\n",
    "\n",
    "print('There are', private_rooms, 'listings as private rooms.')"
   ]
  },
  {
   "cell_type": "code",
   "execution_count": 6,
   "id": "8a81a02a",
   "metadata": {},
   "outputs": [
    {
     "name": "stdout",
     "output_type": "stream",
     "text": [
      "The average listing price on Airbnb for the listings in New York is 141.78 Dollars.\n"
     ]
    }
   ],
   "source": [
    "# Find the average listing price\n",
    "\n",
    "prices['price'] = prices['price'].str.strip(' dollars')\n",
    "prices['price'] = prices['price'].astype(float)\n",
    "\n",
    "mean_price = round(prices['price'].mean(), 2)\n",
    "\n",
    "print('The average listing price on Airbnb for the listings in New York is', mean_price, 'Dollars.')"
   ]
  },
  {
   "cell_type": "code",
   "execution_count": 8,
   "id": "ba380acd",
   "metadata": {},
   "outputs": [
    {
     "data": {
      "text/html": [
       "<div>\n",
       "<style scoped>\n",
       "    .dataframe tbody tr th:only-of-type {\n",
       "        vertical-align: middle;\n",
       "    }\n",
       "\n",
       "    .dataframe tbody tr th {\n",
       "        vertical-align: top;\n",
       "    }\n",
       "\n",
       "    .dataframe thead th {\n",
       "        text-align: right;\n",
       "    }\n",
       "</style>\n",
       "<table border=\"1\" class=\"dataframe\">\n",
       "  <thead>\n",
       "    <tr style=\"text-align: right;\">\n",
       "      <th></th>\n",
       "      <th>first_reviewed</th>\n",
       "      <th>last_reviewed</th>\n",
       "      <th>nb_private_rooms</th>\n",
       "      <th>avg_price</th>\n",
       "    </tr>\n",
       "  </thead>\n",
       "  <tbody>\n",
       "    <tr>\n",
       "      <th>0</th>\n",
       "      <td>2019-01-01</td>\n",
       "      <td>2019-07-09</td>\n",
       "      <td>11356</td>\n",
       "      <td>141.78</td>\n",
       "    </tr>\n",
       "  </tbody>\n",
       "</table>\n",
       "</div>"
      ],
      "text/plain": [
       "  first_reviewed last_reviewed  nb_private_rooms  avg_price\n",
       "0     2019-01-01    2019-07-09             11356     141.78"
      ]
     },
     "execution_count": 8,
     "metadata": {},
     "output_type": "execute_result"
    }
   ],
   "source": [
    "# Combining all previous results in a single Dataframe\n",
    "\n",
    "data = {\n",
    "    'first_reviewed' : [earliest_date],\n",
    "    'last_reviewed' : [latest_date],\n",
    "    'nb_private_rooms' : [private_rooms],\n",
    "    'avg_price' : [mean_price]\n",
    "}\n",
    "\n",
    "review_dates = pd.DataFrame(data)\n",
    "\n",
    "review_dates.head()"
   ]
  },
  {
   "cell_type": "code",
   "execution_count": null,
   "id": "ff5faeee",
   "metadata": {},
   "outputs": [],
   "source": []
  }
 ],
 "metadata": {
  "kernelspec": {
   "display_name": "Python 3 (ipykernel)",
   "language": "python",
   "name": "python3"
  },
  "language_info": {
   "codemirror_mode": {
    "name": "ipython",
    "version": 3
   },
   "file_extension": ".py",
   "mimetype": "text/x-python",
   "name": "python",
   "nbconvert_exporter": "python",
   "pygments_lexer": "ipython3",
   "version": "3.9.13"
  }
 },
 "nbformat": 4,
 "nbformat_minor": 5
}
